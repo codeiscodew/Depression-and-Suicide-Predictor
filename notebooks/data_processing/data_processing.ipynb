{
 "cells": [
  {
   "cell_type": "markdown",
   "metadata": {
    "colab_type": "text",
    "id": "apHoaiXZyvyO"
   },
   "source": [
    "## Data Cleaning, Pre-Processing, and Analysis"
   ]
  },
  {
   "attachments": {},
   "cell_type": "markdown",
   "metadata": {
    "colab_type": "text",
    "id": "u7lOIyQWyvyQ"
   },
   "source": [
    "# Data Cleaning\n",
    "This is the code for data cleaning, which means finding missing values and using the meaningful data for the classifier. "
   ]
  },
  {
   "cell_type": "code",
   "execution_count": 16,
   "metadata": {
    "colab": {},
    "colab_type": "code",
    "id": "RPEvSN9oyvyS",
    "outputId": "129d36ff-6ab3-45c3-9666-b0dc98316c7e"
   },
   "outputs": [
    {
     "name": "stderr",
     "output_type": "stream",
     "text": [
      "[nltk_data] Downloading package wordnet to\n",
      "[nltk_data]     C:\\Users\\91897\\AppData\\Roaming\\nltk_data...\n",
      "[nltk_data]   Package wordnet is already up-to-date!\n",
      "[nltk_data] Downloading package stopwords to\n",
      "[nltk_data]     C:\\Users\\91897\\AppData\\Roaming\\nltk_data...\n",
      "[nltk_data]   Package stopwords is already up-to-date!\n"
     ]
    }
   ],
   "source": [
    "# data analysis imports\n",
    "import numpy as np\n",
    "import pandas as pd\n",
    "import seaborn as sns\n",
    "import matplotlib.pyplot as plt\n",
    "\n",
    "# NLP Imports\n",
    "import nltk\n",
    "nltk.download('wordnet')\n",
    "nltk.download('stopwords')\n",
    "from nltk.tokenize import RegexpTokenizer\n",
    "from nltk.stem import WordNetLemmatizer\n",
    "from nltk.corpus import stopwords\n",
    "import re\n",
    "\n",
    "from sklearn.feature_extraction.text import CountVectorizer\n",
    "\n",
    "from wordcloud import WordCloud, STOPWORDS, ImageColorGenerator\n",
    "from PIL import Image\n",
    "import wordninja"
   ]
  },
  {
   "cell_type": "code",
   "execution_count": 17,
   "metadata": {
    "colab": {},
    "colab_type": "code",
    "id": "Xr3mNIBtyvyX"
   },
   "outputs": [],
   "source": [
    "# data configurations\n",
    "pd.set_option('display.max_columns', 100)\n",
    "sns.set_style(\"darkgrid\")"
   ]
  },
  {
   "cell_type": "code",
   "execution_count": 18,
   "metadata": {
    "colab": {},
    "colab_type": "code",
    "id": "Wf4dTS8nyvyb"
   },
   "outputs": [],
   "source": [
    "# initializing cvs files\n",
    "depression = pd.read_csv('depression.csv')\n",
    "suicide_watch = pd.read_csv('suicide_watch.csv')\n",
    "casual_convo = pd.read_csv('casual_conversation_vs_suicide.csv')"
   ]
  },
  {
   "cell_type": "code",
   "execution_count": 19,
   "metadata": {
    "colab": {},
    "colab_type": "code",
    "id": "k5QPm4TJyvyg",
    "outputId": "b3a5d8db-1e94-4437-9e3c-c34f44615fa2"
   },
   "outputs": [
    {
     "data": {
      "text/plain": [
       "Index(['approved_at_utc', 'subreddit', 'selftext', 'author_fullname', 'saved',\n",
       "       'mod_reason_title', 'gilded', 'clicked', 'title', 'link_flair_richtext',\n",
       "       ...\n",
       "       'parent_whitelist_status', 'stickied', 'url', 'subreddit_subscribers',\n",
       "       'created_utc', 'num_crossposts', 'media', 'is_video', 'author_cakeday',\n",
       "       'is_suicide'],\n",
       "      dtype='object', length=107)"
      ]
     },
     "execution_count": 19,
     "metadata": {},
     "output_type": "execute_result"
    }
   ],
   "source": [
    "#visualizing depression dataset\n",
    "pd.set_option('display.max_columns', 500)\n",
    "casual_convo.head()\n",
    "casual_convo.columns"
   ]
  },
  {
   "cell_type": "markdown",
   "metadata": {
    "colab_type": "text",
    "id": "pvwTJW4Nyvyj"
   },
   "source": [
    "### Relevant Data\n",
    "\n",
    "After viewing the data, there are 100 columns, but barely any of them are really needed for our classifier. We will choose the proper columns and go from there. \n",
    "\n",
    "To start, we will look at the title, text body, author username, number of comments, and lastly the URL of the post. "
   ]
  },
  {
   "cell_type": "code",
   "execution_count": 20,
   "metadata": {
    "colab": {},
    "colab_type": "code",
    "id": "PpQPO-8Zyvyj",
    "outputId": "8d17d030-525f-4255-a762-c8db4b27d76f"
   },
   "outputs": [
    {
     "data": {
      "text/html": [
       "<div>\n",
       "<style scoped>\n",
       "    .dataframe tbody tr th:only-of-type {\n",
       "        vertical-align: middle;\n",
       "    }\n",
       "\n",
       "    .dataframe tbody tr th {\n",
       "        vertical-align: top;\n",
       "    }\n",
       "\n",
       "    .dataframe thead th {\n",
       "        text-align: right;\n",
       "    }\n",
       "</style>\n",
       "<table border=\"1\" class=\"dataframe\">\n",
       "  <thead>\n",
       "    <tr style=\"text-align: right;\">\n",
       "      <th></th>\n",
       "      <th>title</th>\n",
       "      <th>selftext</th>\n",
       "      <th>author</th>\n",
       "      <th>num_comments</th>\n",
       "      <th>is_suicide</th>\n",
       "      <th>url</th>\n",
       "    </tr>\n",
       "  </thead>\n",
       "  <tbody>\n",
       "    <tr>\n",
       "      <th>0</th>\n",
       "      <td>r/CasualConversation Welcome Thread - Month of...</td>\n",
       "      <td>Welcome to r/CasualConversation! Thank you for...</td>\n",
       "      <td>AutoModerator</td>\n",
       "      <td>65</td>\n",
       "      <td>0</td>\n",
       "      <td>https://www.reddit.com/r/CasualConversation/co...</td>\n",
       "    </tr>\n",
       "    <tr>\n",
       "      <th>1</th>\n",
       "      <td>So, we bought a bidet...</td>\n",
       "      <td>Yes, a bidet. And I would like to tell everyon...</td>\n",
       "      <td>Zappavishnu</td>\n",
       "      <td>592</td>\n",
       "      <td>0</td>\n",
       "      <td>https://www.reddit.com/r/CasualConversation/co...</td>\n",
       "    </tr>\n",
       "    <tr>\n",
       "      <th>2</th>\n",
       "      <td>I started the process of legally changing my n...</td>\n",
       "      <td>Tldr; Birth name holds trauma. After 8 years o...</td>\n",
       "      <td>Ox-Moi</td>\n",
       "      <td>48</td>\n",
       "      <td>0</td>\n",
       "      <td>https://www.reddit.com/r/CasualConversation/co...</td>\n",
       "    </tr>\n",
       "    <tr>\n",
       "      <th>3</th>\n",
       "      <td>I pushed myself out of my comfort zone and sta...</td>\n",
       "      <td>I always wanted to be an artist but never been...</td>\n",
       "      <td>QueenPersephoneia</td>\n",
       "      <td>14</td>\n",
       "      <td>0</td>\n",
       "      <td>https://www.reddit.com/r/CasualConversation/co...</td>\n",
       "    </tr>\n",
       "    <tr>\n",
       "      <th>4</th>\n",
       "      <td>I got the job!</td>\n",
       "      <td>After over two years (about 4-5 months were af...</td>\n",
       "      <td>Fristi2147</td>\n",
       "      <td>15</td>\n",
       "      <td>0</td>\n",
       "      <td>https://www.reddit.com/r/CasualConversation/co...</td>\n",
       "    </tr>\n",
       "  </tbody>\n",
       "</table>\n",
       "</div>"
      ],
      "text/plain": [
       "                                               title   \n",
       "0  r/CasualConversation Welcome Thread - Month of...  \\\n",
       "1                           So, we bought a bidet...   \n",
       "2  I started the process of legally changing my n...   \n",
       "3  I pushed myself out of my comfort zone and sta...   \n",
       "4                                     I got the job!   \n",
       "\n",
       "                                            selftext             author   \n",
       "0  Welcome to r/CasualConversation! Thank you for...      AutoModerator  \\\n",
       "1  Yes, a bidet. And I would like to tell everyon...        Zappavishnu   \n",
       "2  Tldr; Birth name holds trauma. After 8 years o...             Ox-Moi   \n",
       "3  I always wanted to be an artist but never been...  QueenPersephoneia   \n",
       "4  After over two years (about 4-5 months were af...         Fristi2147   \n",
       "\n",
       "   num_comments  is_suicide                                                url  \n",
       "0            65           0  https://www.reddit.com/r/CasualConversation/co...  \n",
       "1           592           0  https://www.reddit.com/r/CasualConversation/co...  \n",
       "2            48           0  https://www.reddit.com/r/CasualConversation/co...  \n",
       "3            14           0  https://www.reddit.com/r/CasualConversation/co...  \n",
       "4            15           0  https://www.reddit.com/r/CasualConversation/co...  "
      ]
     },
     "execution_count": 20,
     "metadata": {},
     "output_type": "execute_result"
    }
   ],
   "source": [
    "casual_convo[[\"title\", \"selftext\", \"author\",  \"num_comments\", \"is_suicide\",\"url\"]].head(5)"
   ]
  },
  {
   "cell_type": "markdown",
   "metadata": {
    "colab_type": "text",
    "id": "g5zhgTrEyvyp"
   },
   "source": [
    "From these rows, we can see a few posts that people posted. The second post looks like it is from a moderator, as it is a checkin and they have lots of comments. Posts like these potentially have to be removed. "
   ]
  },
  {
   "cell_type": "code",
   "execution_count": 21,
   "metadata": {
    "colab": {},
    "colab_type": "code",
    "id": "tFLmjR4byvyr",
    "outputId": "318b18c8-6c7a-40c8-9c5a-003bb6e647fa"
   },
   "outputs": [
    {
     "data": {
      "text/html": [
       "<div>\n",
       "<style scoped>\n",
       "    .dataframe tbody tr th:only-of-type {\n",
       "        vertical-align: middle;\n",
       "    }\n",
       "\n",
       "    .dataframe tbody tr th {\n",
       "        vertical-align: top;\n",
       "    }\n",
       "\n",
       "    .dataframe thead th {\n",
       "        text-align: right;\n",
       "    }\n",
       "</style>\n",
       "<table border=\"1\" class=\"dataframe\">\n",
       "  <thead>\n",
       "    <tr style=\"text-align: right;\">\n",
       "      <th></th>\n",
       "      <th>title</th>\n",
       "      <th>selftext</th>\n",
       "      <th>author</th>\n",
       "      <th>num_comments</th>\n",
       "      <th>is_suicide</th>\n",
       "      <th>url</th>\n",
       "    </tr>\n",
       "  </thead>\n",
       "  <tbody>\n",
       "    <tr>\n",
       "      <th>0</th>\n",
       "      <td>New wiki on how to avoid accidentally encourag...</td>\n",
       "      <td>We've been seeing a worrying increase in pro-s...</td>\n",
       "      <td>SQLwitch</td>\n",
       "      <td>251</td>\n",
       "      <td>1</td>\n",
       "      <td>https://www.reddit.com/r/SuicideWatch/comments...</td>\n",
       "    </tr>\n",
       "    <tr>\n",
       "      <th>1</th>\n",
       "      <td>Please remember that NO ACTIVISM of any kind i...</td>\n",
       "      <td>Activism, i.e. advocating or fundraising for s...</td>\n",
       "      <td>SQLwitch</td>\n",
       "      <td>43</td>\n",
       "      <td>1</td>\n",
       "      <td>https://www.reddit.com/r/SuicideWatch/comments...</td>\n",
       "    </tr>\n",
       "    <tr>\n",
       "      <th>2</th>\n",
       "      <td>\"iT gEtS bEtTeR\", \"yOu'Re LoVeD\" and other cli...</td>\n",
       "      <td>Sick of hearing it. It's all just platitudes t...</td>\n",
       "      <td>peteau89</td>\n",
       "      <td>52</td>\n",
       "      <td>1</td>\n",
       "      <td>https://www.reddit.com/r/SuicideWatch/comments...</td>\n",
       "    </tr>\n",
       "    <tr>\n",
       "      <th>3</th>\n",
       "      <td>My therapist fired me for being too depressed.</td>\n",
       "      <td>That’s it that’s the post lmao</td>\n",
       "      <td>bunnyeatscarbs</td>\n",
       "      <td>13</td>\n",
       "      <td>1</td>\n",
       "      <td>https://www.reddit.com/r/SuicideWatch/comments...</td>\n",
       "    </tr>\n",
       "    <tr>\n",
       "      <th>4</th>\n",
       "      <td>if i kill myself all my problems will go away.</td>\n",
       "      <td>i just need to kill myself.</td>\n",
       "      <td>Sufficient_Resist169</td>\n",
       "      <td>14</td>\n",
       "      <td>1</td>\n",
       "      <td>https://www.reddit.com/r/SuicideWatch/comments...</td>\n",
       "    </tr>\n",
       "  </tbody>\n",
       "</table>\n",
       "</div>"
      ],
      "text/plain": [
       "                                               title   \n",
       "0  New wiki on how to avoid accidentally encourag...  \\\n",
       "1  Please remember that NO ACTIVISM of any kind i...   \n",
       "2  \"iT gEtS bEtTeR\", \"yOu'Re LoVeD\" and other cli...   \n",
       "3     My therapist fired me for being too depressed.   \n",
       "4     if i kill myself all my problems will go away.   \n",
       "\n",
       "                                            selftext                author   \n",
       "0  We've been seeing a worrying increase in pro-s...              SQLwitch  \\\n",
       "1  Activism, i.e. advocating or fundraising for s...              SQLwitch   \n",
       "2  Sick of hearing it. It's all just platitudes t...              peteau89   \n",
       "3                     That’s it that’s the post lmao        bunnyeatscarbs   \n",
       "4                        i just need to kill myself.  Sufficient_Resist169   \n",
       "\n",
       "   num_comments  is_suicide                                                url  \n",
       "0           251           1  https://www.reddit.com/r/SuicideWatch/comments...  \n",
       "1            43           1  https://www.reddit.com/r/SuicideWatch/comments...  \n",
       "2            52           1  https://www.reddit.com/r/SuicideWatch/comments...  \n",
       "3            13           1  https://www.reddit.com/r/SuicideWatch/comments...  \n",
       "4            14           1  https://www.reddit.com/r/SuicideWatch/comments...  "
      ]
     },
     "execution_count": 21,
     "metadata": {},
     "output_type": "execute_result"
    }
   ],
   "source": [
    "suicide_watch[[\"title\", \"selftext\", \"author\",  \"num_comments\", \"is_suicide\",\"url\"]].head(5)"
   ]
  },
  {
   "cell_type": "markdown",
   "metadata": {
    "colab_type": "text",
    "id": "nseLVrKryvyv"
   },
   "source": [
    "This is the suicide dataset. Just from the preview, the titles and posts are clearly different, but it is very hard to distinguish which is which and how to classify that. Post 5 has no body, which also could be problematic as it is a missing value."
   ]
  },
  {
   "cell_type": "code",
   "execution_count": 22,
   "metadata": {
    "colab": {},
    "colab_type": "code",
    "id": "0L_6A3nYyvyv",
    "outputId": "e4150555-0c44-4d92-bd23-8e64b5067976"
   },
   "outputs": [
    {
     "name": "stdout",
     "output_type": "stream",
     "text": [
      "(789, 6)\n",
      "(990, 6)\n"
     ]
    }
   ],
   "source": [
    "# viewing shapes of datasets\n",
    "print(casual_convo[[\"title\", \"selftext\", \"author\",  \"num_comments\", \"is_suicide\",\"url\"]].shape)\n",
    "print(suicide_watch[[\"title\", \"selftext\", \"author\",  \"num_comments\", \"is_suicide\",\"url\"]].shape)"
   ]
  },
  {
   "cell_type": "markdown",
   "metadata": {
    "colab_type": "text",
    "id": "BPDdet0Pyvyx"
   },
   "source": [
    "they are a bit different in size, but after cleaning and processing this shouldn't be an issue. "
   ]
  },
  {
   "cell_type": "code",
   "execution_count": 23,
   "metadata": {
    "colab": {},
    "colab_type": "code",
    "id": "iKoQeBBwyvyy",
    "scrolled": true
   },
   "outputs": [
    {
     "name": "stdout",
     "output_type": "stream",
     "text": [
      "I need to figure out how to be someone else. I’ve been happy with who I am my whole life. I used to. But it wasn’t enough for anyone else. \n",
      "\n",
      "What is so amazing about everyone else that people like them? Why do I have to live and pretend I’m happy when no one cares that I’m there? What did I do deserve to be like this?\n"
     ]
    },
    {
     "data": {
      "text/plain": [
       "321"
      ]
     },
     "execution_count": 23,
     "metadata": {},
     "output_type": "execute_result"
    }
   ],
   "source": [
    "# reading post 118 from the depression dataset\n",
    "print(depression[\"selftext\"][80])\n",
    "len(depression[\"selftext\"][80])"
   ]
  },
  {
   "cell_type": "code",
   "execution_count": 24,
   "metadata": {
    "colab": {},
    "colab_type": "code",
    "id": "WMUMLjbmyvy0",
    "outputId": "668630f8-89c3-4095-a423-fd91129e6f50",
    "scrolled": true
   },
   "outputs": [
    {
     "name": "stdout",
     "output_type": "stream",
     "text": [
      "I think I might actually do it now. I lost everything. It's time. I got nothing left to lose. I don't even have my heart anymore. They took that too.\n"
     ]
    },
    {
     "data": {
      "text/plain": [
       "149"
      ]
     },
     "execution_count": 24,
     "metadata": {},
     "output_type": "execute_result"
    }
   ],
   "source": [
    "# reading post 118 from the suicide dataset\n",
    "print(suicide_watch[\"selftext\"][118])\n",
    "len(suicide_watch[\"selftext\"][118])"
   ]
  },
  {
   "cell_type": "markdown",
   "metadata": {
    "colab_type": "text",
    "id": "AXw7a8D1yvy2"
   },
   "source": [
    "just from reading them, they look pretty similar. However, the stories of both people are completely different and one of them is suicidal. The second person explicitly says they will die in 3 months, but the first post makes no such remarks. A classifier could do a good job of distinguishing between these two. Let's read two more. "
   ]
  },
  {
   "cell_type": "code",
   "execution_count": 25,
   "metadata": {
    "colab": {},
    "colab_type": "code",
    "id": "sig0dBBxyvy3",
    "outputId": "761c2f8f-8954-4bb2-a774-59ea58bd1671"
   },
   "outputs": [
    {
     "name": "stdout",
     "output_type": "stream",
     "text": [
      "It’s so weird that feeling nothing is the new normal for many , I used to think people were being super dramatic but that is really what it feels like . I think when I feel “ better “ , it’s not really like happiness , it’s more so that empty feeling that could pass for happiness / normality . I keep trying to force tears just to feel something ( as dramatic as it sounds ) , but nothing happens, I can never cry naturally , I have to force myself , and the minute I stop focusing on it , the tears dry up oops  . I feel isolated from everyone - like I can see my family / friends interacting but there’s like this chain keeping me rooted in place if that makes sense ? All communication is too much effort ? Let alone movement . The feeling of nothingness is almost safer and more comfortable and reliable ? I kinda prefer it than being happy I guess . Happy makes me feel vulnerable or uncomfortable . Everything good and bad in life comes from feelings .\n"
     ]
    }
   ],
   "source": [
    "print(depression[\"selftext\"][6])"
   ]
  },
  {
   "cell_type": "code",
   "execution_count": 26,
   "metadata": {
    "colab": {},
    "colab_type": "code",
    "id": "weBrdP65yvy7",
    "outputId": "1adfcd52-1514-4d46-91e4-7646d5a8f9b1"
   },
   "outputs": [
    {
     "name": "stdout",
     "output_type": "stream",
     "text": [
      "I can’t take the pain anymore. i’m going to either hang myself or throw myself in front of a train… i’m sorry to everyone. i just cant do it anymore.\n"
     ]
    }
   ],
   "source": [
    "print(suicide_watch[\"selftext\"][100])"
   ]
  },
  {
   "cell_type": "markdown",
   "metadata": {
    "colab_type": "text",
    "id": "Q47VCSSFyvy9"
   },
   "source": [
    "between these two posts, there is a clear distinction, but it would be hard for a regular person reading it to be sure. Only a classifier generalized on thousands of peoples suffering could do this. But the first post talks about how their life is getting better, while the second explains that the person thinks that it is time to die. "
   ]
  },
  {
   "cell_type": "code",
   "execution_count": 88,
   "metadata": {},
   "outputs": [],
   "source": [
    "# casual_convo = casual_convo.rename(columns={'causal': 'is_suicide'})"
   ]
  },
  {
   "cell_type": "code",
   "execution_count": 27,
   "metadata": {
    "colab": {},
    "colab_type": "code",
    "id": "yTIpxr1Wyvy-",
    "outputId": "745cff73-ee45-4fe5-bd0f-debfdf1bebcc"
   },
   "outputs": [
    {
     "data": {
      "text/html": [
       "<div>\n",
       "<style scoped>\n",
       "    .dataframe tbody tr th:only-of-type {\n",
       "        vertical-align: middle;\n",
       "    }\n",
       "\n",
       "    .dataframe tbody tr th {\n",
       "        vertical-align: top;\n",
       "    }\n",
       "\n",
       "    .dataframe thead th {\n",
       "        text-align: right;\n",
       "    }\n",
       "</style>\n",
       "<table border=\"1\" class=\"dataframe\">\n",
       "  <thead>\n",
       "    <tr style=\"text-align: right;\">\n",
       "      <th></th>\n",
       "      <th>title</th>\n",
       "      <th>selftext</th>\n",
       "      <th>author</th>\n",
       "      <th>num_comments</th>\n",
       "      <th>is_suicide</th>\n",
       "      <th>url</th>\n",
       "    </tr>\n",
       "  </thead>\n",
       "  <tbody>\n",
       "    <tr>\n",
       "      <th>0</th>\n",
       "      <td>New wiki on how to avoid accidentally encourag...</td>\n",
       "      <td>We've been seeing a worrying increase in pro-s...</td>\n",
       "      <td>SQLwitch</td>\n",
       "      <td>251</td>\n",
       "      <td>1</td>\n",
       "      <td>https://www.reddit.com/r/SuicideWatch/comments...</td>\n",
       "    </tr>\n",
       "    <tr>\n",
       "      <th>1</th>\n",
       "      <td>Please remember that NO ACTIVISM of any kind i...</td>\n",
       "      <td>Activism, i.e. advocating or fundraising for s...</td>\n",
       "      <td>SQLwitch</td>\n",
       "      <td>43</td>\n",
       "      <td>1</td>\n",
       "      <td>https://www.reddit.com/r/SuicideWatch/comments...</td>\n",
       "    </tr>\n",
       "    <tr>\n",
       "      <th>2</th>\n",
       "      <td>\"iT gEtS bEtTeR\", \"yOu'Re LoVeD\" and other cli...</td>\n",
       "      <td>Sick of hearing it. It's all just platitudes t...</td>\n",
       "      <td>peteau89</td>\n",
       "      <td>52</td>\n",
       "      <td>1</td>\n",
       "      <td>https://www.reddit.com/r/SuicideWatch/comments...</td>\n",
       "    </tr>\n",
       "    <tr>\n",
       "      <th>3</th>\n",
       "      <td>My therapist fired me for being too depressed.</td>\n",
       "      <td>That’s it that’s the post lmao</td>\n",
       "      <td>bunnyeatscarbs</td>\n",
       "      <td>13</td>\n",
       "      <td>1</td>\n",
       "      <td>https://www.reddit.com/r/SuicideWatch/comments...</td>\n",
       "    </tr>\n",
       "    <tr>\n",
       "      <th>4</th>\n",
       "      <td>if i kill myself all my problems will go away.</td>\n",
       "      <td>i just need to kill myself.</td>\n",
       "      <td>Sufficient_Resist169</td>\n",
       "      <td>14</td>\n",
       "      <td>1</td>\n",
       "      <td>https://www.reddit.com/r/SuicideWatch/comments...</td>\n",
       "    </tr>\n",
       "    <tr>\n",
       "      <th>...</th>\n",
       "      <td>...</td>\n",
       "      <td>...</td>\n",
       "      <td>...</td>\n",
       "      <td>...</td>\n",
       "      <td>...</td>\n",
       "      <td>...</td>\n",
       "    </tr>\n",
       "    <tr>\n",
       "      <th>1774</th>\n",
       "      <td>The gym girl</td>\n",
       "      <td>So what happened today was , I went to the Gym...</td>\n",
       "      <td>Maddy_Rock</td>\n",
       "      <td>4</td>\n",
       "      <td>0</td>\n",
       "      <td>https://www.reddit.com/r/CasualConversation/co...</td>\n",
       "    </tr>\n",
       "    <tr>\n",
       "      <th>1775</th>\n",
       "      <td>Had a great evening, how are y'all?</td>\n",
       "      <td>Just got home from a really good evening. I wo...</td>\n",
       "      <td>LandSquiddy</td>\n",
       "      <td>10</td>\n",
       "      <td>0</td>\n",
       "      <td>https://www.reddit.com/r/CasualConversation/co...</td>\n",
       "    </tr>\n",
       "    <tr>\n",
       "      <th>1776</th>\n",
       "      <td>What would you bring to a syrup themed pot luc...</td>\n",
       "      <td>It can be any type of syrup. I'm thinking of m...</td>\n",
       "      <td>sumadviceplz</td>\n",
       "      <td>9</td>\n",
       "      <td>0</td>\n",
       "      <td>https://www.reddit.com/r/CasualConversation/co...</td>\n",
       "    </tr>\n",
       "    <tr>\n",
       "      <th>1777</th>\n",
       "      <td>When flies die, do they die mid flight or land...</td>\n",
       "      <td>I thought of this when I saw a fly flying arou...</td>\n",
       "      <td>Spiritual-Clock5624</td>\n",
       "      <td>0</td>\n",
       "      <td>0</td>\n",
       "      <td>https://www.reddit.com/r/CasualConversation/co...</td>\n",
       "    </tr>\n",
       "    <tr>\n",
       "      <th>1778</th>\n",
       "      <td>Talking to Starbucks baristas are so fun!</td>\n",
       "      <td>They are fun and friendly! I started to say go...</td>\n",
       "      <td>Thegrandcultivator</td>\n",
       "      <td>0</td>\n",
       "      <td>0</td>\n",
       "      <td>https://www.reddit.com/r/CasualConversation/co...</td>\n",
       "    </tr>\n",
       "  </tbody>\n",
       "</table>\n",
       "<p>1779 rows × 6 columns</p>\n",
       "</div>"
      ],
      "text/plain": [
       "                                                  title   \n",
       "0     New wiki on how to avoid accidentally encourag...  \\\n",
       "1     Please remember that NO ACTIVISM of any kind i...   \n",
       "2     \"iT gEtS bEtTeR\", \"yOu'Re LoVeD\" and other cli...   \n",
       "3        My therapist fired me for being too depressed.   \n",
       "4        if i kill myself all my problems will go away.   \n",
       "...                                                 ...   \n",
       "1774                                       The gym girl   \n",
       "1775                Had a great evening, how are y'all?   \n",
       "1776  What would you bring to a syrup themed pot luc...   \n",
       "1777  When flies die, do they die mid flight or land...   \n",
       "1778          Talking to Starbucks baristas are so fun!   \n",
       "\n",
       "                                               selftext                author   \n",
       "0     We've been seeing a worrying increase in pro-s...              SQLwitch  \\\n",
       "1     Activism, i.e. advocating or fundraising for s...              SQLwitch   \n",
       "2     Sick of hearing it. It's all just platitudes t...              peteau89   \n",
       "3                        That’s it that’s the post lmao        bunnyeatscarbs   \n",
       "4                           i just need to kill myself.  Sufficient_Resist169   \n",
       "...                                                 ...                   ...   \n",
       "1774  So what happened today was , I went to the Gym...            Maddy_Rock   \n",
       "1775  Just got home from a really good evening. I wo...           LandSquiddy   \n",
       "1776  It can be any type of syrup. I'm thinking of m...          sumadviceplz   \n",
       "1777  I thought of this when I saw a fly flying arou...   Spiritual-Clock5624   \n",
       "1778  They are fun and friendly! I started to say go...    Thegrandcultivator   \n",
       "\n",
       "      num_comments  is_suicide   \n",
       "0              251           1  \\\n",
       "1               43           1   \n",
       "2               52           1   \n",
       "3               13           1   \n",
       "4               14           1   \n",
       "...            ...         ...   \n",
       "1774             4           0   \n",
       "1775            10           0   \n",
       "1776             9           0   \n",
       "1777             0           0   \n",
       "1778             0           0   \n",
       "\n",
       "                                                    url  \n",
       "0     https://www.reddit.com/r/SuicideWatch/comments...  \n",
       "1     https://www.reddit.com/r/SuicideWatch/comments...  \n",
       "2     https://www.reddit.com/r/SuicideWatch/comments...  \n",
       "3     https://www.reddit.com/r/SuicideWatch/comments...  \n",
       "4     https://www.reddit.com/r/SuicideWatch/comments...  \n",
       "...                                                 ...  \n",
       "1774  https://www.reddit.com/r/CasualConversation/co...  \n",
       "1775  https://www.reddit.com/r/CasualConversation/co...  \n",
       "1776  https://www.reddit.com/r/CasualConversation/co...  \n",
       "1777  https://www.reddit.com/r/CasualConversation/co...  \n",
       "1778  https://www.reddit.com/r/CasualConversation/co...  \n",
       "\n",
       "[1779 rows x 6 columns]"
      ]
     },
     "execution_count": 27,
     "metadata": {},
     "output_type": "execute_result"
    }
   ],
   "source": [
    "# the 5 columns we chose seem good so lets shorten the datasets. \n",
    "dep_columns = depression[[\"title\", \"selftext\", \"author\",  \"num_comments\", \"is_suicide\",\"url\"]]\n",
    "sui_columns = suicide_watch[[\"title\", \"selftext\", \"author\",  \"num_comments\", \"is_suicide\",\"url\"]]\n",
    "cas_columns = casual_convo[[\"title\", \"selftext\", \"author\",  \"num_comments\", \"is_suicide\",\"url\"]]\n",
    "\n",
    "# lets combine the datasets into one massive dataset. \n",
    "# combined_data = pd.concat([dep_columns,sui_columns, cas_columns],axis=0, ignore_index=True) \n",
    "# combined_data = pd.concat([dep_columns, cas_columns],axis=0, ignore_index=True)  \n",
    "combined_data = pd.concat([sui_columns, cas_columns],axis=0, ignore_index=True)  \n",
    "combined_data"
   ]
  },
  {
   "cell_type": "code",
   "execution_count": 28,
   "metadata": {
    "colab": {},
    "colab_type": "code",
    "id": "-WRL8rSGyvzA"
   },
   "outputs": [],
   "source": [
    "# saving the combined data in our datasets folder\n",
    "combined_data.to_csv('suicide_vs_nothing.csv', index = False)"
   ]
  },
  {
   "cell_type": "code",
   "execution_count": 29,
   "metadata": {
    "colab": {},
    "colab_type": "code",
    "id": "LCBmAGUhyvzC",
    "outputId": "7abdd2bc-0aa3-4460-c338-036ff6a16d0e"
   },
   "outputs": [
    {
     "name": "stdout",
     "output_type": "stream",
     "text": [
      "<class 'pandas.core.frame.DataFrame'>\n",
      "RangeIndex: 1779 entries, 0 to 1778\n",
      "Data columns (total 6 columns):\n",
      " #   Column        Non-Null Count  Dtype \n",
      "---  ------        --------------  ----- \n",
      " 0   title         1779 non-null   object\n",
      " 1   selftext      1724 non-null   object\n",
      " 2   author        1779 non-null   object\n",
      " 3   num_comments  1779 non-null   int64 \n",
      " 4   is_suicide    1779 non-null   int64 \n",
      " 5   url           1779 non-null   object\n",
      "dtypes: int64(2), object(4)\n",
      "memory usage: 83.5+ KB\n"
     ]
    }
   ],
   "source": [
    "# checking for missing values\n",
    "combined_data.info()"
   ]
  },
  {
   "cell_type": "markdown",
   "metadata": {
    "colab_type": "text",
    "id": "usJqoE2gyvzF"
   },
   "source": [
    "it looks like the only missing values are in the text body, which makes sense. "
   ]
  },
  {
   "cell_type": "code",
   "execution_count": 30,
   "metadata": {
    "colab": {},
    "colab_type": "code",
    "id": "F1wQYwZ6yvzF",
    "outputId": "c53c7a5c-62fb-428b-a04f-18cbac9f3719"
   },
   "outputs": [
    {
     "data": {
      "text/html": [
       "<div>\n",
       "<style scoped>\n",
       "    .dataframe tbody tr th:only-of-type {\n",
       "        vertical-align: middle;\n",
       "    }\n",
       "\n",
       "    .dataframe tbody tr th {\n",
       "        vertical-align: top;\n",
       "    }\n",
       "\n",
       "    .dataframe thead th {\n",
       "        text-align: right;\n",
       "    }\n",
       "</style>\n",
       "<table border=\"1\" class=\"dataframe\">\n",
       "  <thead>\n",
       "    <tr style=\"text-align: right;\">\n",
       "      <th></th>\n",
       "      <th>title</th>\n",
       "      <th>selftext</th>\n",
       "      <th>author</th>\n",
       "      <th>num_comments</th>\n",
       "      <th>is_suicide</th>\n",
       "      <th>url</th>\n",
       "    </tr>\n",
       "  </thead>\n",
       "  <tbody>\n",
       "    <tr>\n",
       "      <th>8</th>\n",
       "      <td>I’m not going to tell anyone close to me that ...</td>\n",
       "      <td>NaN</td>\n",
       "      <td>That_Girl30</td>\n",
       "      <td>41</td>\n",
       "      <td>1</td>\n",
       "      <td>https://www.reddit.com/r/SuicideWatch/comments...</td>\n",
       "    </tr>\n",
       "    <tr>\n",
       "      <th>10</th>\n",
       "      <td>I wish I can go back to being a kid again</td>\n",
       "      <td>NaN</td>\n",
       "      <td>Forsaken_Ad9089</td>\n",
       "      <td>2</td>\n",
       "      <td>1</td>\n",
       "      <td>https://www.reddit.com/r/SuicideWatch/comments...</td>\n",
       "    </tr>\n",
       "    <tr>\n",
       "      <th>29</th>\n",
       "      <td>48 year old, I am unable to take care of mysel...</td>\n",
       "      <td>NaN</td>\n",
       "      <td>this_isntmy_bestwork</td>\n",
       "      <td>0</td>\n",
       "      <td>1</td>\n",
       "      <td>https://www.reddit.com/r/SuicideWatch/comments...</td>\n",
       "    </tr>\n",
       "    <tr>\n",
       "      <th>30</th>\n",
       "      <td>My teacher literally jokes about being suicida...</td>\n",
       "      <td>NaN</td>\n",
       "      <td>Murky_Coat7627</td>\n",
       "      <td>5</td>\n",
       "      <td>1</td>\n",
       "      <td>https://www.reddit.com/r/SuicideWatch/comments...</td>\n",
       "    </tr>\n",
       "    <tr>\n",
       "      <th>57</th>\n",
       "      <td>Genuinely find no purpose in life , literally ...</td>\n",
       "      <td>NaN</td>\n",
       "      <td>1idekbro_</td>\n",
       "      <td>0</td>\n",
       "      <td>1</td>\n",
       "      <td>https://www.reddit.com/r/SuicideWatch/comments...</td>\n",
       "    </tr>\n",
       "    <tr>\n",
       "      <th>108</th>\n",
       "      <td>Hi i need so fucking help can someone message ...</td>\n",
       "      <td>NaN</td>\n",
       "      <td>Pale_Improvement2629</td>\n",
       "      <td>7</td>\n",
       "      <td>1</td>\n",
       "      <td>https://www.reddit.com/r/SuicideWatch/comments...</td>\n",
       "    </tr>\n",
       "    <tr>\n",
       "      <th>112</th>\n",
       "      <td>I need solitudinous autonomy.</td>\n",
       "      <td>NaN</td>\n",
       "      <td>26982537</td>\n",
       "      <td>1</td>\n",
       "      <td>1</td>\n",
       "      <td>https://www.reddit.com/r/SuicideWatch/comments...</td>\n",
       "    </tr>\n",
       "    <tr>\n",
       "      <th>120</th>\n",
       "      <td>Any reasons not to ghost all of my friends and...</td>\n",
       "      <td>NaN</td>\n",
       "      <td>fuckme-emoboy</td>\n",
       "      <td>2</td>\n",
       "      <td>1</td>\n",
       "      <td>https://www.reddit.com/r/SuicideWatch/comments...</td>\n",
       "    </tr>\n",
       "    <tr>\n",
       "      <th>178</th>\n",
       "      <td>Im highkey tempted to off myself</td>\n",
       "      <td>NaN</td>\n",
       "      <td>Keeeeeeeepppppp</td>\n",
       "      <td>0</td>\n",
       "      <td>1</td>\n",
       "      <td>https://www.reddit.com/r/SuicideWatch/comments...</td>\n",
       "    </tr>\n",
       "    <tr>\n",
       "      <th>187</th>\n",
       "      <td>It does not get better.It just doesn't.Keep tr...</td>\n",
       "      <td>NaN</td>\n",
       "      <td>TheManWhoEatsWomen</td>\n",
       "      <td>1</td>\n",
       "      <td>1</td>\n",
       "      <td>https://www.reddit.com/r/SuicideWatch/comments...</td>\n",
       "    </tr>\n",
       "  </tbody>\n",
       "</table>\n",
       "</div>"
      ],
      "text/plain": [
       "                                                 title selftext   \n",
       "8    I’m not going to tell anyone close to me that ...      NaN  \\\n",
       "10           I wish I can go back to being a kid again      NaN   \n",
       "29   48 year old, I am unable to take care of mysel...      NaN   \n",
       "30   My teacher literally jokes about being suicida...      NaN   \n",
       "57   Genuinely find no purpose in life , literally ...      NaN   \n",
       "108  Hi i need so fucking help can someone message ...      NaN   \n",
       "112                      I need solitudinous autonomy.      NaN   \n",
       "120  Any reasons not to ghost all of my friends and...      NaN   \n",
       "178                   Im highkey tempted to off myself      NaN   \n",
       "187  It does not get better.It just doesn't.Keep tr...      NaN   \n",
       "\n",
       "                   author  num_comments  is_suicide   \n",
       "8             That_Girl30            41           1  \\\n",
       "10        Forsaken_Ad9089             2           1   \n",
       "29   this_isntmy_bestwork             0           1   \n",
       "30         Murky_Coat7627             5           1   \n",
       "57              1idekbro_             0           1   \n",
       "108  Pale_Improvement2629             7           1   \n",
       "112              26982537             1           1   \n",
       "120         fuckme-emoboy             2           1   \n",
       "178       Keeeeeeeepppppp             0           1   \n",
       "187    TheManWhoEatsWomen             1           1   \n",
       "\n",
       "                                                   url  \n",
       "8    https://www.reddit.com/r/SuicideWatch/comments...  \n",
       "10   https://www.reddit.com/r/SuicideWatch/comments...  \n",
       "29   https://www.reddit.com/r/SuicideWatch/comments...  \n",
       "30   https://www.reddit.com/r/SuicideWatch/comments...  \n",
       "57   https://www.reddit.com/r/SuicideWatch/comments...  \n",
       "108  https://www.reddit.com/r/SuicideWatch/comments...  \n",
       "112  https://www.reddit.com/r/SuicideWatch/comments...  \n",
       "120  https://www.reddit.com/r/SuicideWatch/comments...  \n",
       "178  https://www.reddit.com/r/SuicideWatch/comments...  \n",
       "187  https://www.reddit.com/r/SuicideWatch/comments...  "
      ]
     },
     "execution_count": 30,
     "metadata": {},
     "output_type": "execute_result"
    }
   ],
   "source": [
    "# looking at the posts with missing text values\n",
    "combined_data[combined_data[\"selftext\"].isnull()].head(10)"
   ]
  },
  {
   "cell_type": "markdown",
   "metadata": {
    "colab_type": "text",
    "id": "x72z_owvyvzK"
   },
   "source": [
    "The posts with missing values are either very concise in the title and to the point, or the main text is basically in the title. Luckily, there aren't that many posts with missing values. However, most of the null values are in the suicide dataset, which makes sense but also could be troublesome for our classifier. Maybe using the titles as the text would be a good approach. "
   ]
  },
  {
   "cell_type": "code",
   "execution_count": 31,
   "metadata": {
    "colab": {},
    "colab_type": "code",
    "id": "b37WNNamyvzL",
    "outputId": "b4afab7e-9050-4aec-ca1e-ff155f65077d"
   },
   "outputs": [
    {
     "data": {
      "text/plain": [
       "is_suicide\n",
       "1    55\n",
       "Name: count, dtype: int64"
      ]
     },
     "execution_count": 31,
     "metadata": {},
     "output_type": "execute_result"
    }
   ],
   "source": [
    "combined_data[\"is_suicide\"][combined_data[\"selftext\"].isnull()].value_counts()"
   ]
  },
  {
   "cell_type": "code",
   "execution_count": 32,
   "metadata": {
    "colab": {},
    "colab_type": "code",
    "id": "OZG7ErrQyvzS"
   },
   "outputs": [],
   "source": [
    "# the best approach for the null values it to just fill them with \"emptypost\"\n",
    "combined_data[\"selftext\"].fillna(\"emptypost\",inplace=True)"
   ]
  },
  {
   "cell_type": "code",
   "execution_count": 33,
   "metadata": {
    "colab": {},
    "colab_type": "code",
    "id": "4DsxPL4qyvzU",
    "outputId": "33b39329-4056-4506-e830-049a24ab435d"
   },
   "outputs": [
    {
     "data": {
      "text/html": [
       "<div>\n",
       "<style scoped>\n",
       "    .dataframe tbody tr th:only-of-type {\n",
       "        vertical-align: middle;\n",
       "    }\n",
       "\n",
       "    .dataframe tbody tr th {\n",
       "        vertical-align: top;\n",
       "    }\n",
       "\n",
       "    .dataframe thead th {\n",
       "        text-align: right;\n",
       "    }\n",
       "</style>\n",
       "<table border=\"1\" class=\"dataframe\">\n",
       "  <thead>\n",
       "    <tr style=\"text-align: right;\">\n",
       "      <th></th>\n",
       "      <th>title</th>\n",
       "      <th>selftext</th>\n",
       "      <th>author</th>\n",
       "      <th>num_comments</th>\n",
       "      <th>is_suicide</th>\n",
       "      <th>url</th>\n",
       "    </tr>\n",
       "  </thead>\n",
       "  <tbody>\n",
       "    <tr>\n",
       "      <th>8</th>\n",
       "      <td>I’m not going to tell anyone close to me that ...</td>\n",
       "      <td>emptypost</td>\n",
       "      <td>That_Girl30</td>\n",
       "      <td>41</td>\n",
       "      <td>1</td>\n",
       "      <td>https://www.reddit.com/r/SuicideWatch/comments...</td>\n",
       "    </tr>\n",
       "    <tr>\n",
       "      <th>10</th>\n",
       "      <td>I wish I can go back to being a kid again</td>\n",
       "      <td>emptypost</td>\n",
       "      <td>Forsaken_Ad9089</td>\n",
       "      <td>2</td>\n",
       "      <td>1</td>\n",
       "      <td>https://www.reddit.com/r/SuicideWatch/comments...</td>\n",
       "    </tr>\n",
       "    <tr>\n",
       "      <th>29</th>\n",
       "      <td>48 year old, I am unable to take care of mysel...</td>\n",
       "      <td>emptypost</td>\n",
       "      <td>this_isntmy_bestwork</td>\n",
       "      <td>0</td>\n",
       "      <td>1</td>\n",
       "      <td>https://www.reddit.com/r/SuicideWatch/comments...</td>\n",
       "    </tr>\n",
       "    <tr>\n",
       "      <th>30</th>\n",
       "      <td>My teacher literally jokes about being suicida...</td>\n",
       "      <td>emptypost</td>\n",
       "      <td>Murky_Coat7627</td>\n",
       "      <td>5</td>\n",
       "      <td>1</td>\n",
       "      <td>https://www.reddit.com/r/SuicideWatch/comments...</td>\n",
       "    </tr>\n",
       "    <tr>\n",
       "      <th>57</th>\n",
       "      <td>Genuinely find no purpose in life , literally ...</td>\n",
       "      <td>emptypost</td>\n",
       "      <td>1idekbro_</td>\n",
       "      <td>0</td>\n",
       "      <td>1</td>\n",
       "      <td>https://www.reddit.com/r/SuicideWatch/comments...</td>\n",
       "    </tr>\n",
       "  </tbody>\n",
       "</table>\n",
       "</div>"
      ],
      "text/plain": [
       "                                                title   selftext   \n",
       "8   I’m not going to tell anyone close to me that ...  emptypost  \\\n",
       "10          I wish I can go back to being a kid again  emptypost   \n",
       "29  48 year old, I am unable to take care of mysel...  emptypost   \n",
       "30  My teacher literally jokes about being suicida...  emptypost   \n",
       "57  Genuinely find no purpose in life , literally ...  emptypost   \n",
       "\n",
       "                  author  num_comments  is_suicide   \n",
       "8            That_Girl30            41           1  \\\n",
       "10       Forsaken_Ad9089             2           1   \n",
       "29  this_isntmy_bestwork             0           1   \n",
       "30        Murky_Coat7627             5           1   \n",
       "57             1idekbro_             0           1   \n",
       "\n",
       "                                                  url  \n",
       "8   https://www.reddit.com/r/SuicideWatch/comments...  \n",
       "10  https://www.reddit.com/r/SuicideWatch/comments...  \n",
       "29  https://www.reddit.com/r/SuicideWatch/comments...  \n",
       "30  https://www.reddit.com/r/SuicideWatch/comments...  \n",
       "57  https://www.reddit.com/r/SuicideWatch/comments...  "
      ]
     },
     "execution_count": 33,
     "metadata": {},
     "output_type": "execute_result"
    }
   ],
   "source": [
    "# checking if filling missing values worked\n",
    "combined_data[combined_data[\"selftext\"].isin([\"emptypost\"])].head()"
   ]
  },
  {
   "cell_type": "code",
   "execution_count": 34,
   "metadata": {
    "colab": {},
    "colab_type": "code",
    "id": "dH4qHWcoyvzX",
    "outputId": "bd0912dc-36ab-46f4-e386-7ff81ffa530c"
   },
   "outputs": [
    {
     "name": "stdout",
     "output_type": "stream",
     "text": [
      "<class 'pandas.core.frame.DataFrame'>\n",
      "RangeIndex: 1779 entries, 0 to 1778\n",
      "Data columns (total 6 columns):\n",
      " #   Column        Non-Null Count  Dtype \n",
      "---  ------        --------------  ----- \n",
      " 0   title         1779 non-null   object\n",
      " 1   selftext      1779 non-null   object\n",
      " 2   author        1779 non-null   object\n",
      " 3   num_comments  1779 non-null   int64 \n",
      " 4   is_suicide    1779 non-null   int64 \n",
      " 5   url           1779 non-null   object\n",
      "dtypes: int64(2), object(4)\n",
      "memory usage: 83.5+ KB\n"
     ]
    }
   ],
   "source": [
    "# checking entire dataset for missing values\n",
    "combined_data.info()"
   ]
  },
  {
   "cell_type": "markdown",
   "metadata": {
    "colab_type": "text",
    "id": "K2OnDMpryvzZ"
   },
   "source": [
    "# Data Preprocessing\n",
    "The posts are all written in different punctuation and capitalizations, so standardizing the data is an important first step. "
   ]
  },
  {
   "cell_type": "markdown",
   "metadata": {
    "colab_type": "text",
    "id": "--WqWPW_yvzZ"
   },
   "source": [
    "### Preprocessing Functions\n",
    "Let's begin by removing capitalizations, reducing sentences to base words, and removing punctuation. We will add this as a new column to our data."
   ]
  },
  {
   "cell_type": "code",
   "execution_count": 35,
   "metadata": {
    "colab": {},
    "colab_type": "code",
    "id": "jikSNGrsyvza"
   },
   "outputs": [],
   "source": [
    "def processing_text(series_to_process):\n",
    "    new_list = []\n",
    "    tokenizer = RegexpTokenizer(r'(\\w+)')\n",
    "    lemmatizer = WordNetLemmatizer()\n",
    "    for i in range(len(series_to_process)):\n",
    "        # tokenized item in a new list\n",
    "        dirty_string = (series_to_process)[i].lower()\n",
    "        words_only = tokenizer.tokenize(dirty_string) # words_only is a list of only the words, no punctuation\n",
    "        #Lemmatize the words_only\n",
    "        words_only_lem = [lemmatizer.lemmatize(i) for i in words_only]\n",
    "        # removing stop words\n",
    "        words_without_stop = [i for i in words_only_lem if i not in stopwords.words(\"english\")]\n",
    "        # return seperated words\n",
    "        long_string_clean = \" \".join(word for word in words_without_stop)\n",
    "        new_list.append(long_string_clean)\n",
    "    return new_list"
   ]
  },
  {
   "cell_type": "code",
   "execution_count": 36,
   "metadata": {
    "colab": {},
    "colab_type": "code",
    "id": "Oukr9PXgyvzc",
    "outputId": "6afea178-1882-4fe4-fa93-a70af33a94e0"
   },
   "outputs": [
    {
     "data": {
      "text/html": [
       "<div>\n",
       "<style scoped>\n",
       "    .dataframe tbody tr th:only-of-type {\n",
       "        vertical-align: middle;\n",
       "    }\n",
       "\n",
       "    .dataframe tbody tr th {\n",
       "        vertical-align: top;\n",
       "    }\n",
       "\n",
       "    .dataframe thead th {\n",
       "        text-align: right;\n",
       "    }\n",
       "</style>\n",
       "<table border=\"1\" class=\"dataframe\">\n",
       "  <thead>\n",
       "    <tr style=\"text-align: right;\">\n",
       "      <th></th>\n",
       "      <th>title</th>\n",
       "      <th>selftext</th>\n",
       "      <th>author</th>\n",
       "      <th>num_comments</th>\n",
       "      <th>is_suicide</th>\n",
       "      <th>url</th>\n",
       "      <th>selftext_clean</th>\n",
       "      <th>title_clean</th>\n",
       "    </tr>\n",
       "  </thead>\n",
       "  <tbody>\n",
       "    <tr>\n",
       "      <th>0</th>\n",
       "      <td>New wiki on how to avoid accidentally encouraging suicide, and how to spot covert incitement</td>\n",
       "      <td>We've been seeing a worrying increase in pro-suicide content showing up here and, and also going...</td>\n",
       "      <td>SQLwitch</td>\n",
       "      <td>251</td>\n",
       "      <td>1</td>\n",
       "      <td>https://www.reddit.com/r/SuicideWatch/comments/cz6nfd/new_wiki_on_how_to_avoid_accidentally_enco...</td>\n",
       "      <td>seeing worrying increase pro suicide content showing also going unreported undermines purpose wa...</td>\n",
       "      <td>new wiki avoid accidentally encouraging suicide spot covert incitement</td>\n",
       "    </tr>\n",
       "    <tr>\n",
       "      <th>1</th>\n",
       "      <td>Please remember that NO ACTIVISM of any kind is ever allowed here. No matter what day it is.</td>\n",
       "      <td>Activism, i.e. advocating or fundraising for social change or raising awareness of social issues...</td>\n",
       "      <td>SQLwitch</td>\n",
       "      <td>43</td>\n",
       "      <td>1</td>\n",
       "      <td>https://www.reddit.com/r/SuicideWatch/comments/pl9suy/please_remember_that_no_activism_of_any_ki...</td>\n",
       "      <td>activism e advocating fundraising social change raising awareness social issue suicide inescapab...</td>\n",
       "      <td>please remember activism kind ever allowed matter day</td>\n",
       "    </tr>\n",
       "    <tr>\n",
       "      <th>2</th>\n",
       "      <td>\"iT gEtS bEtTeR\", \"yOu'Re LoVeD\" and other cliches</td>\n",
       "      <td>Sick of hearing it. It's all just platitudes that don't even help me and probably many others' s...</td>\n",
       "      <td>peteau89</td>\n",
       "      <td>52</td>\n",
       "      <td>1</td>\n",
       "      <td>https://www.reddit.com/r/SuicideWatch/comments/12k0015/it_gets_better_youre_loved_and_other_clic...</td>\n",
       "      <td>sick hearing platitude even help probably many others situation</td>\n",
       "      <td>get better loved cliche</td>\n",
       "    </tr>\n",
       "    <tr>\n",
       "      <th>3</th>\n",
       "      <td>My therapist fired me for being too depressed.</td>\n",
       "      <td>That’s it that’s the post lmao</td>\n",
       "      <td>bunnyeatscarbs</td>\n",
       "      <td>13</td>\n",
       "      <td>1</td>\n",
       "      <td>https://www.reddit.com/r/SuicideWatch/comments/12jwn0h/my_therapist_fired_me_for_being_too_depre...</td>\n",
       "      <td>post lmao</td>\n",
       "      <td>therapist fired depressed</td>\n",
       "    </tr>\n",
       "    <tr>\n",
       "      <th>4</th>\n",
       "      <td>if i kill myself all my problems will go away.</td>\n",
       "      <td>i just need to kill myself.</td>\n",
       "      <td>Sufficient_Resist169</td>\n",
       "      <td>14</td>\n",
       "      <td>1</td>\n",
       "      <td>https://www.reddit.com/r/SuicideWatch/comments/12jsv5k/if_i_kill_myself_all_my_problems_will_go_...</td>\n",
       "      <td>need kill</td>\n",
       "      <td>kill problem go away</td>\n",
       "    </tr>\n",
       "    <tr>\n",
       "      <th>5</th>\n",
       "      <td>Great actually everyone hates depressed ppl</td>\n",
       "      <td>They just don’t want to be the bad guy and admit the fact.\\nThey just give u the cold shoulder a...</td>\n",
       "      <td>Initial_Pineapple942</td>\n",
       "      <td>18</td>\n",
       "      <td>1</td>\n",
       "      <td>https://www.reddit.com/r/SuicideWatch/comments/12jl52i/great_actually_everyone_hates_depressed_ppl/</td>\n",
       "      <td>want bad guy admit fact give u cold shoulder pretend care u say really give fuck sick constant c...</td>\n",
       "      <td>great actually everyone hate depressed ppl</td>\n",
       "    </tr>\n",
       "    <tr>\n",
       "      <th>6</th>\n",
       "      <td>Why do people try to prevent you from suicide, won't help you in living?</td>\n",
       "      <td>Been trying my best lately to work hard, be positive, and do better. Some people around definite...</td>\n",
       "      <td>kindofmischief</td>\n",
       "      <td>1</td>\n",
       "      <td>1</td>\n",
       "      <td>https://www.reddit.com/r/SuicideWatch/comments/12k71c3/why_do_people_try_to_prevent_you_from_sui...</td>\n",
       "      <td>trying best lately work hard positive better people around definitely make tougher expect functi...</td>\n",
       "      <td>people try prevent suicide help living</td>\n",
       "    </tr>\n",
       "    <tr>\n",
       "      <th>7</th>\n",
       "      <td>Another bad day 😔 I don't know, my parents did the worst thing to me by bringing me to this worl...</td>\n",
       "      <td>Pain. Suffering. Depression. Bad days. Mental torture. Finance problem.. Career problem. Social ...</td>\n",
       "      <td>soulofamonk</td>\n",
       "      <td>0</td>\n",
       "      <td>1</td>\n",
       "      <td>https://www.reddit.com/r/SuicideWatch/comments/12k1yz3/another_bad_day_i_dont_know_my_parents_di...</td>\n",
       "      <td>pain suffering depression bad day mental torture finance problem career problem social anxiety f...</td>\n",
       "      <td>another bad day know parent worst thing bringing world good sensitive weak like 7th year suicida...</td>\n",
       "    </tr>\n",
       "  </tbody>\n",
       "</table>\n",
       "</div>"
      ],
      "text/plain": [
       "                                                                                                 title   \n",
       "0         New wiki on how to avoid accidentally encouraging suicide, and how to spot covert incitement  \\\n",
       "1         Please remember that NO ACTIVISM of any kind is ever allowed here. No matter what day it is.   \n",
       "2                                                   \"iT gEtS bEtTeR\", \"yOu'Re LoVeD\" and other cliches   \n",
       "3                                                       My therapist fired me for being too depressed.   \n",
       "4                                                       if i kill myself all my problems will go away.   \n",
       "5                                                          Great actually everyone hates depressed ppl   \n",
       "6                             Why do people try to prevent you from suicide, won't help you in living?   \n",
       "7  Another bad day 😔 I don't know, my parents did the worst thing to me by bringing me to this worl...   \n",
       "\n",
       "                                                                                              selftext   \n",
       "0  We've been seeing a worrying increase in pro-suicide content showing up here and, and also going...  \\\n",
       "1  Activism, i.e. advocating or fundraising for social change or raising awareness of social issues...   \n",
       "2  Sick of hearing it. It's all just platitudes that don't even help me and probably many others' s...   \n",
       "3                                                                       That’s it that’s the post lmao   \n",
       "4                                                                          i just need to kill myself.   \n",
       "5  They just don’t want to be the bad guy and admit the fact.\\nThey just give u the cold shoulder a...   \n",
       "6  Been trying my best lately to work hard, be positive, and do better. Some people around definite...   \n",
       "7  Pain. Suffering. Depression. Bad days. Mental torture. Finance problem.. Career problem. Social ...   \n",
       "\n",
       "                 author  num_comments  is_suicide   \n",
       "0              SQLwitch           251           1  \\\n",
       "1              SQLwitch            43           1   \n",
       "2              peteau89            52           1   \n",
       "3        bunnyeatscarbs            13           1   \n",
       "4  Sufficient_Resist169            14           1   \n",
       "5  Initial_Pineapple942            18           1   \n",
       "6        kindofmischief             1           1   \n",
       "7           soulofamonk             0           1   \n",
       "\n",
       "                                                                                                   url   \n",
       "0  https://www.reddit.com/r/SuicideWatch/comments/cz6nfd/new_wiki_on_how_to_avoid_accidentally_enco...  \\\n",
       "1  https://www.reddit.com/r/SuicideWatch/comments/pl9suy/please_remember_that_no_activism_of_any_ki...   \n",
       "2  https://www.reddit.com/r/SuicideWatch/comments/12k0015/it_gets_better_youre_loved_and_other_clic...   \n",
       "3  https://www.reddit.com/r/SuicideWatch/comments/12jwn0h/my_therapist_fired_me_for_being_too_depre...   \n",
       "4  https://www.reddit.com/r/SuicideWatch/comments/12jsv5k/if_i_kill_myself_all_my_problems_will_go_...   \n",
       "5  https://www.reddit.com/r/SuicideWatch/comments/12jl52i/great_actually_everyone_hates_depressed_ppl/   \n",
       "6  https://www.reddit.com/r/SuicideWatch/comments/12k71c3/why_do_people_try_to_prevent_you_from_sui...   \n",
       "7  https://www.reddit.com/r/SuicideWatch/comments/12k1yz3/another_bad_day_i_dont_know_my_parents_di...   \n",
       "\n",
       "                                                                                        selftext_clean   \n",
       "0  seeing worrying increase pro suicide content showing also going unreported undermines purpose wa...  \\\n",
       "1  activism e advocating fundraising social change raising awareness social issue suicide inescapab...   \n",
       "2                                      sick hearing platitude even help probably many others situation   \n",
       "3                                                                                            post lmao   \n",
       "4                                                                                            need kill   \n",
       "5  want bad guy admit fact give u cold shoulder pretend care u say really give fuck sick constant c...   \n",
       "6  trying best lately work hard positive better people around definitely make tougher expect functi...   \n",
       "7  pain suffering depression bad day mental torture finance problem career problem social anxiety f...   \n",
       "\n",
       "                                                                                           title_clean  \n",
       "0                               new wiki avoid accidentally encouraging suicide spot covert incitement  \n",
       "1                                                please remember activism kind ever allowed matter day  \n",
       "2                                                                              get better loved cliche  \n",
       "3                                                                            therapist fired depressed  \n",
       "4                                                                                 kill problem go away  \n",
       "5                                                           great actually everyone hate depressed ppl  \n",
       "6                                                               people try prevent suicide help living  \n",
       "7  another bad day know parent worst thing bringing world good sensitive weak like 7th year suicida...  "
      ]
     },
     "execution_count": 36,
     "metadata": {},
     "output_type": "execute_result"
    }
   ],
   "source": [
    "# checking to see if the new columns were added\n",
    "combined_data[\"selftext_clean\"] = processing_text(combined_data[\"selftext\"])\n",
    "combined_data[\"title_clean\"] = processing_text(combined_data[\"title\"])\n",
    "pd.set_option(\"display.max_colwidth\", 100)\n",
    "combined_data.head(8)"
   ]
  },
  {
   "cell_type": "markdown",
   "metadata": {
    "colab_type": "text",
    "id": "wbMXeOelyvzf"
   },
   "source": [
    "Cleaning the titles and text worked, and that is important for our classifier to simplify the process and create a clearer distinction between the two datasets. "
   ]
  },
  {
   "cell_type": "code",
   "execution_count": 37,
   "metadata": {
    "colab": {},
    "colab_type": "code",
    "id": "IQZbAEizyvzf",
    "outputId": "2a58f384-d301-410b-b78f-c0c686bb6748"
   },
   "outputs": [
    {
     "data": {
      "text/html": [
       "<div>\n",
       "<style scoped>\n",
       "    .dataframe tbody tr th:only-of-type {\n",
       "        vertical-align: middle;\n",
       "    }\n",
       "\n",
       "    .dataframe tbody tr th {\n",
       "        vertical-align: top;\n",
       "    }\n",
       "\n",
       "    .dataframe thead th {\n",
       "        text-align: right;\n",
       "    }\n",
       "</style>\n",
       "<table border=\"1\" class=\"dataframe\">\n",
       "  <thead>\n",
       "    <tr style=\"text-align: right;\">\n",
       "      <th></th>\n",
       "      <th>selftext</th>\n",
       "      <th>selftext_clean</th>\n",
       "    </tr>\n",
       "  </thead>\n",
       "  <tbody>\n",
       "    <tr>\n",
       "      <th>1777</th>\n",
       "      <td>I thought of this when I saw a fly flying around my room. Do flies comprehend their mortality? Do any animal or insect comprehend their mortality? (I just discovered you can make a horrible mistake mixing up the ‘c’ and ‘s’ in insect)</td>\n",
       "      <td>thought saw fly flying around room fly comprehend mortality animal insect comprehend mortality discovered make horrible mistake mixing c insect</td>\n",
       "    </tr>\n",
       "    <tr>\n",
       "      <th>1778</th>\n",
       "      <td>They are fun and friendly! I started to say good morning to them and always try to make them feel human. It is all too often do people dehumanize service workers. \\n\\nI always try to make quick casual conversations with baristas. It really makes their day! \\n\\nI just don't feel like treating them like subhuman trash.</td>\n",
       "      <td>fun friendly started say good morning always try make feel human often people dehumanize service worker always try make quick casual conversation baristas really make day feel like treating like subhuman trash</td>\n",
       "    </tr>\n",
       "  </tbody>\n",
       "</table>\n",
       "</div>"
      ],
      "text/plain": [
       "                                                                                                                                                                                                                                                                                                                            selftext   \n",
       "1777                                                                                      I thought of this when I saw a fly flying around my room. Do flies comprehend their mortality? Do any animal or insect comprehend their mortality? (I just discovered you can make a horrible mistake mixing up the ‘c’ and ‘s’ in insect)  \\\n",
       "1778  They are fun and friendly! I started to say good morning to them and always try to make them feel human. It is all too often do people dehumanize service workers. \\n\\nI always try to make quick casual conversations with baristas. It really makes their day! \\n\\nI just don't feel like treating them like subhuman trash.   \n",
       "\n",
       "                                                                                                                                                                                                         selftext_clean  \n",
       "1777                                                                    thought saw fly flying around room fly comprehend mortality animal insect comprehend mortality discovered make horrible mistake mixing c insect  \n",
       "1778  fun friendly started say good morning always try make feel human often people dehumanize service worker always try make quick casual conversation baristas really make day feel like treating like subhuman trash  "
      ]
     },
     "execution_count": 37,
     "metadata": {},
     "output_type": "execute_result"
    }
   ],
   "source": [
    "# checking selftext_clean\n",
    "pd.set_option(\"display.max_colwidth\", 1000)\n",
    "combined_data[[\"selftext\",\"selftext_clean\"]].tail(2)"
   ]
  },
  {
   "cell_type": "code",
   "execution_count": 38,
   "metadata": {
    "colab": {},
    "colab_type": "code",
    "id": "CSfsip9ayvzj",
    "outputId": "f902ae4e-1ec7-4db3-d166-65c8ebb3c9e6"
   },
   "outputs": [
    {
     "name": "stdout",
     "output_type": "stream",
     "text": [
      "{'SQLwitch': 'SQL witch', 'peteau89': 'pete au 89', 'bunnyeatscarbs': 'bunny eats carb s', 'Sufficient_Resist169': 'Sufficient Resist 169', 'Initial_Pineapple942': 'Initial Pineapple 942', 'kindofmischief': 'kind of mischief', 'soulofamonk': 'soul of a monk', 'That_Girl30': 'That Girl 30', 'CatgirlSophie': 'Cat girl Sophie'}\n"
     ]
    }
   ],
   "source": [
    "# testing wordninja\n",
    "author_test = []\n",
    "for i in range(10):\n",
    "    splits_list = wordninja.split(combined_data[\"author\"][i])\n",
    "    combined_string = \" \".join(splits_list)\n",
    "    author_test.append(combined_string)\n",
    "test_dict = {combined_data[\"author\"][i]:author_test[i] for i in range(10)}\n",
    "print(test_dict)"
   ]
  },
  {
   "cell_type": "code",
   "execution_count": 40,
   "metadata": {
    "colab": {},
    "colab_type": "code",
    "id": "zs7WtREMyvzm"
   },
   "outputs": [],
   "source": [
    "# lets also clean the author names\n",
    "def processing_author_names(series_to_process):\n",
    "    author_split = []\n",
    "    for i in range(len(series_to_process)):\n",
    "        splits_list = wordninja.split(series_to_process[i])\n",
    "        combined_string = \" \".join(splits_list)\n",
    "        author_split.append(combined_string)\n",
    "    new_list = []\n",
    "    tokenizer = RegexpTokenizer(r'(\\w+)')\n",
    "    lemmatizer = WordNetLemmatizer()\n",
    "    for i in range(len(author_split)):\n",
    "        #TOKENISED ITEM(LONG STRING) IN A LIST\n",
    "        dirty_string = (author_split)[i].lower()\n",
    "        words_only = tokenizer.tokenize(dirty_string) #WORDS_ONLY IS A LIST THAT DOESN'T HAVE PUNCTUATION\n",
    "        #LEMMATISE THE ITEMS IN WORDS_ONLY\n",
    "        words_only_lem = [lemmatizer.lemmatize(i) for i in words_only]\n",
    "        #REMOVING STOP WORDS FROM THE LEMMATIZED LIST\n",
    "        words_without_stop = [i for i in words_only_lem if i not in stopwords.words(\"english\")]\n",
    "        #RETURN SEPERATED WORDS INTO LONG STRING\n",
    "        long_string_clean = \" \".join(word for word in words_without_stop)\n",
    "        new_list.append(long_string_clean)\n",
    "    return new_list"
   ]
  },
  {
   "cell_type": "code",
   "execution_count": 41,
   "metadata": {
    "colab": {},
    "colab_type": "code",
    "id": "yb2wIb-xyvzq",
    "outputId": "0361f4d3-c6cc-4a8f-c574-27cf5b13d7ea"
   },
   "outputs": [
    {
     "data": {
      "text/html": [
       "<div>\n",
       "<style scoped>\n",
       "    .dataframe tbody tr th:only-of-type {\n",
       "        vertical-align: middle;\n",
       "    }\n",
       "\n",
       "    .dataframe tbody tr th {\n",
       "        vertical-align: top;\n",
       "    }\n",
       "\n",
       "    .dataframe thead th {\n",
       "        text-align: right;\n",
       "    }\n",
       "</style>\n",
       "<table border=\"1\" class=\"dataframe\">\n",
       "  <thead>\n",
       "    <tr style=\"text-align: right;\">\n",
       "      <th></th>\n",
       "      <th>author</th>\n",
       "      <th>author_clean</th>\n",
       "    </tr>\n",
       "  </thead>\n",
       "  <tbody>\n",
       "    <tr>\n",
       "      <th>1769</th>\n",
       "      <td>Intelligent_Quote823</td>\n",
       "      <td>intelligent quote 823</td>\n",
       "    </tr>\n",
       "    <tr>\n",
       "      <th>1770</th>\n",
       "      <td>DonMartiniMacaroni</td>\n",
       "      <td>martini macaroni</td>\n",
       "    </tr>\n",
       "    <tr>\n",
       "      <th>1771</th>\n",
       "      <td>B_Nicoleo</td>\n",
       "      <td>b nicole</td>\n",
       "    </tr>\n",
       "    <tr>\n",
       "      <th>1772</th>\n",
       "      <td>DaddyCeiling</td>\n",
       "      <td>daddy ceiling</td>\n",
       "    </tr>\n",
       "    <tr>\n",
       "      <th>1773</th>\n",
       "      <td>Riskyredhead</td>\n",
       "      <td>risky redhead</td>\n",
       "    </tr>\n",
       "    <tr>\n",
       "      <th>1774</th>\n",
       "      <td>Maddy_Rock</td>\n",
       "      <td>maddy rock</td>\n",
       "    </tr>\n",
       "    <tr>\n",
       "      <th>1775</th>\n",
       "      <td>LandSquiddy</td>\n",
       "      <td>land squid dy</td>\n",
       "    </tr>\n",
       "    <tr>\n",
       "      <th>1776</th>\n",
       "      <td>sumadviceplz</td>\n",
       "      <td>sum advice plz</td>\n",
       "    </tr>\n",
       "    <tr>\n",
       "      <th>1777</th>\n",
       "      <td>Spiritual-Clock5624</td>\n",
       "      <td>spiritual clock 5624</td>\n",
       "    </tr>\n",
       "    <tr>\n",
       "      <th>1778</th>\n",
       "      <td>Thegrandcultivator</td>\n",
       "      <td>grand cultivator</td>\n",
       "    </tr>\n",
       "  </tbody>\n",
       "</table>\n",
       "</div>"
      ],
      "text/plain": [
       "                    author           author_clean\n",
       "1769  Intelligent_Quote823  intelligent quote 823\n",
       "1770    DonMartiniMacaroni       martini macaroni\n",
       "1771             B_Nicoleo               b nicole\n",
       "1772          DaddyCeiling          daddy ceiling\n",
       "1773          Riskyredhead          risky redhead\n",
       "1774            Maddy_Rock             maddy rock\n",
       "1775           LandSquiddy          land squid dy\n",
       "1776          sumadviceplz         sum advice plz\n",
       "1777   Spiritual-Clock5624   spiritual clock 5624\n",
       "1778    Thegrandcultivator       grand cultivator"
      ]
     },
     "execution_count": 41,
     "metadata": {},
     "output_type": "execute_result"
    }
   ],
   "source": [
    "combined_data[\"author_clean\"]= processing_author_names(combined_data[\"author\"])\n",
    "\n",
    "# checking author_clean\n",
    "pd.set_option(\"display.max_colwidth\", 100)\n",
    "combined_data[[\"author\",\"author_clean\"]].tail(10)"
   ]
  },
  {
   "cell_type": "markdown",
   "metadata": {
    "colab_type": "text",
    "id": "E0t-ih_Oyvzs"
   },
   "source": [
    "so it doesn't work that well, but it isn't too big a deal because the author names don't matter as much, as long as it is simplified it is working well."
   ]
  },
  {
   "cell_type": "code",
   "execution_count": 42,
   "metadata": {
    "colab": {},
    "colab_type": "code",
    "id": "7InX6K6Xyvzs",
    "outputId": "2570c53b-9e11-4670-d493-f68de86934fd"
   },
   "outputs": [
    {
     "data": {
      "text/plain": [
       "title             0\n",
       "selftext          0\n",
       "author            0\n",
       "num_comments      0\n",
       "is_suicide        0\n",
       "url               0\n",
       "selftext_clean    0\n",
       "title_clean       0\n",
       "author_clean      0\n",
       "dtype: int64"
      ]
     },
     "execution_count": 42,
     "metadata": {},
     "output_type": "execute_result"
    }
   ],
   "source": [
    "# Making sure there is no new missing values added\n",
    "combined_data.isnull().sum()"
   ]
  },
  {
   "cell_type": "code",
   "execution_count": 43,
   "metadata": {},
   "outputs": [],
   "source": [
    "combined_data.to_csv('suicide_vs_nothing.csv', index = False)"
   ]
  },
  {
   "cell_type": "markdown",
   "metadata": {
    "colab_type": "text",
    "id": "27KqjCutyvzv"
   },
   "source": [
    "## Data Preprocessing Complete\n",
    "This was a relatively simple process because we only have a few attributes to adjust. We have 3 attributes to train our model on now."
   ]
  }
 ],
 "metadata": {
  "colab": {
   "include_colab_link": true,
   "name": "data_processing.ipynb",
   "provenance": [],
   "toc_visible": true
  },
  "kernelspec": {
   "display_name": "Python 3",
   "language": "python",
   "name": "python3"
  },
  "language_info": {
   "codemirror_mode": {
    "name": "ipython",
    "version": 3
   },
   "file_extension": ".py",
   "mimetype": "text/x-python",
   "name": "python",
   "nbconvert_exporter": "python",
   "pygments_lexer": "ipython3",
   "version": "3.10.11"
  }
 },
 "nbformat": 4,
 "nbformat_minor": 1
}
